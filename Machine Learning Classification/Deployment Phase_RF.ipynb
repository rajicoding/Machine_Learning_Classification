{
 "cells": [
  {
   "cell_type": "code",
   "execution_count": 36,
   "id": "0973be7c-24d4-4943-a014-6ed79e541628",
   "metadata": {},
   "outputs": [],
   "source": [
    "import pickle"
   ]
  },
  {
   "cell_type": "code",
   "execution_count": 38,
   "id": "254af194-0bfa-4266-a284-39f7f92e65f2",
   "metadata": {},
   "outputs": [],
   "source": [
    "loaded_model=pickle.load(open(\"RandomForest_final.sav\",\"rb\"))\n",
    "result=loaded_model.predict([[50,30000,1]])"
   ]
  },
  {
   "cell_type": "code",
   "execution_count": 40,
   "id": "69627411-809b-4629-8596-fa1d2e23ad16",
   "metadata": {},
   "outputs": [
    {
     "name": "stdout",
     "output_type": "stream",
     "text": [
      "[1]\n"
     ]
    }
   ],
   "source": [
    "print(result)"
   ]
  },
  {
   "cell_type": "code",
   "execution_count": 42,
   "id": "dfd1806a-e003-474c-a053-bfafaa43925a",
   "metadata": {},
   "outputs": [],
   "source": [
    "result=loaded_model.predict([[40,30000,0]])"
   ]
  },
  {
   "cell_type": "code",
   "execution_count": 44,
   "id": "99fc9aeb-6700-4e08-860f-54879a549494",
   "metadata": {},
   "outputs": [
    {
     "name": "stdout",
     "output_type": "stream",
     "text": [
      "[0]\n"
     ]
    }
   ],
   "source": [
    "print(result)"
   ]
  },
  {
   "cell_type": "code",
   "execution_count": null,
   "id": "5f44c3ef-6cec-4088-bbed-45a1f28c8627",
   "metadata": {},
   "outputs": [],
   "source": []
  }
 ],
 "metadata": {
  "kernelspec": {
   "display_name": "Python [conda env:base] *",
   "language": "python",
   "name": "conda-base-py"
  },
  "language_info": {
   "codemirror_mode": {
    "name": "ipython",
    "version": 3
   },
   "file_extension": ".py",
   "mimetype": "text/x-python",
   "name": "python",
   "nbconvert_exporter": "python",
   "pygments_lexer": "ipython3",
   "version": "3.12.7"
  }
 },
 "nbformat": 4,
 "nbformat_minor": 5
}
